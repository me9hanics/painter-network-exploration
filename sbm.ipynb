{
 "cells": [
  {
   "cell_type": "markdown",
   "metadata": {},
   "source": [
    "# Community detection - Stochastic block model"
   ]
  },
  {
   "cell_type": "markdown",
   "metadata": {},
   "source": [
    "Original data: from the `painter_networks.ipynb` notebook"
   ]
  },
  {
   "cell_type": "markdown",
   "metadata": {},
   "source": [
    "## Imports, initial procedures"
   ]
  },
  {
   "cell_type": "code",
   "execution_count": 1,
   "metadata": {
    "metadata": {}
   },
   "outputs": [],
   "source": [
    "import json\n",
    "import pandas as pd\n",
    "import matplotlib.pyplot as plt\n",
    "from graph_tool.all import *"
   ]
  },
  {
   "cell_type": "code",
   "execution_count": null,
   "metadata": {
    "metadata": {}
   },
   "outputs": [
    {
     "name": "stdout",
     "output_type": "stream",
     "text": [
      "Vertex properties:  ['Art500k_Movements', 'FirstYear', 'FriendsandCoworkers', 'Influencedby', 'Influencedon', 'LastYear', 'Nationality', 'PaintingSchool', 'PaintingsExhibitedAt', 'PaintingsExhibitedAtCount', 'Pupils', 'StylesCount', 'StylesYears', 'Teachers', '_graphml_vertex_id', 'artist', 'birth_place', 'birth_year', 'citizenship', 'death_place', 'death_year', 'gender', 'locations', 'locations_with_years', 'movement', 'name', 'occupations', 'styles', 'styles_extended', 'wikiart_pictures_count']\n",
      "Example artist: Jean-Baptiste-Simeon Chardin\n",
      "Art500k_Movements {Realism:1}\n",
      "FirstYear 1728.0\n",
      "FriendsandCoworkers \n",
      "Influencedby \n",
      "Influencedon \n",
      "LastYear 1753.0\n",
      "Nationality \n",
      "PaintingSchool \n",
      "PaintingsExhibitedAt \n",
      "PaintingsExhibitedAtCount \n",
      "Pupils \n",
      "StylesCount \n",
      "StylesYears \n",
      "Teachers \n",
      "_graphml_vertex_id Jean-Baptiste-Simeon Chardin\n",
      "artist Jean-Baptiste-Simeon Chardin\n",
      "birth_place Paris\n",
      "birth_year 1699.0\n",
      "citizenship France\n",
      "death_place Paris\n",
      "death_year 1779.0\n",
      "gender male\n",
      "locations ['Paris']\n",
      "locations_with_years []\n",
      "movement Baroque\n",
      "name Jean-Baptiste-Simeon Chardin\n",
      "occupations painter, visual artist\n",
      "styles Baroque, Rococo\n",
      "styles_extended {Baroque:17},{Rococo:62}\n",
      "wikiart_pictures_count 79.0\n"
     ]
    }
   ],
   "source": [
    "#Load the graph from the graphml file\n",
    "g = load_graph(\"data/painters.graphml\")\n",
    "names = list(g.vertex_properties[\"artist\"])\n",
    "\n",
    "print(\"Vertex properties: \", list(g.vertex_properties.keys()))\n",
    "print(\"\\nExample artist:\", g.vertex_properties[\"artist\"][2])\n",
    "for prop in g.vertex_properties:\n",
    "    print(prop, g.vertex_properties[prop][g.vertex(2)])"
   ]
  },
  {
   "cell_type": "markdown",
   "metadata": {},
   "source": [
    "## Community detection"
   ]
  },
  {
   "cell_type": "markdown",
   "metadata": {},
   "source": [
    "To find communities, we use a stochastic block model (SBM) - the nested SBM, which is a hierarchical version, finding connections on higher levels, between communities (this can be nicely visualized on the plot). We will only use the first level of the nested SBM."
   ]
  },
  {
   "cell_type": "code",
   "execution_count": 20,
   "metadata": {
    "metadata": {}
   },
   "outputs": [
    {
     "data": {
      "text/plain": [
       "<BlockState object with 2400 blocks (49 nonempty), degree-corrected, with 1 edge covariate, for graph <Graph object, undirected, with 2400 vertices and 18725 edges, 30 internal vertex properties, 2 internal edge properties, at 0x7f4bcc5fa750>, at 0x7f4bdc86f710>"
      ]
     },
     "execution_count": 20,
     "metadata": {},
     "output_type": "execute_result"
    }
   ],
   "source": [
    "state = minimize_nested_blockmodel_dl(g, state_args=dict(recs=[g.ep.weight], rec_types=[\"real-exponential\"]))\n",
    "state.levels[0]"
   ]
  },
  {
   "cell_type": "markdown",
   "metadata": {},
   "source": [
    "We have 49 communities of the 2400 artists, which we will further analyze. Before that, it's interesting to see how they are connected:"
   ]
  },
  {
   "cell_type": "markdown",
   "metadata": {},
   "source": [
    "**NOTE**: Output was removed to save memory, I saved it in the image subfolder as a .png"
   ]
  },
  {
   "cell_type": "code",
   "execution_count": 46,
   "metadata": {
    "metadata": {}
   },
   "outputs": [],
   "source": [
    "state.draw(edge_color=[0.6, 0.6, 0.6, 0.3],\n",
    "           eorder=g.ep.weight, # edge ordering is important!\n",
    "              ecmap=plt.cm.Greys,\n",
    "          output = \"images/painters_nested_blockmodel.png\");"
   ]
  },
  {
   "cell_type": "markdown",
   "metadata": {},
   "source": [
    "We save the communities, and do the analysis in the main notebook (`painter_networks.ipynb`)."
   ]
  },
  {
   "cell_type": "code",
   "execution_count": 62,
   "metadata": {
    "metadata": {}
   },
   "outputs": [],
   "source": [
    "b = state.levels[0].get_blocks()\n",
    "block_to_artist = {}\n",
    "for v in g.vertices():\n",
    "    block_id = b[v]\n",
    "    artist = g.vertex_properties['artist'][v]\n",
    "    if block_id not in block_to_artist:\n",
    "        block_to_artist[block_id] = []\n",
    "    block_to_artist[block_id].append(artist)\n",
    "\n",
    "with open(\"data/blocks.json\", \"w\") as f:\n",
    "    json.dump(block_to_artist, f)"
   ]
  }
 ],
 "metadata": {
  "kernelspec": {
   "display_name": "netsci-course",
   "language": "python",
   "name": "python3"
  },
  "language_info": {
   "codemirror_mode": {
    "name": "ipython",
    "version": 3
   },
   "file_extension": ".py",
   "mimetype": "text/x-python",
   "name": "python",
   "nbconvert_exporter": "python",
   "pygments_lexer": "ipython3",
   "version": "3.11.6"
  }
 },
 "nbformat": 4,
 "nbformat_minor": 4
}
